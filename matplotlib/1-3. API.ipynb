{
 "cells": [
  {
   "cell_type": "markdown",
   "metadata": {},
   "source": [
    "# 1장. Matplotlib 입문\n",
    "\n",
    "## 1-3. API의 이해\n",
    "\n",
    "Matplotlib은 총 3가지 API를 제공합니다.\n",
    "\n",
    "**API**란 Application Programing Interface의 약자로, 응용 프로그램에서 사용할 수 있도록 운영 체제나 프로그래밍 언어가 제공하는 기능을 제어할 수 있게 만든 인터페이스를 뜻합니다. (출처 : Wikipedia)\n",
    "\n",
    "좀 더 쉽게 이야기 하면 Matplotlib에서 그래프를 그리는 방식이 3가지 있다는 의미입니다.\n",
    "\n",
    "1. pyplot API\n",
    "2. 객체지향(Object Oriented) API\n",
    "3. pylab API\n",
    "\n",
    "각각을 살펴봅시다."
   ]
  },
  {
   "cell_type": "code",
   "execution_count": 2,
   "metadata": {},
   "outputs": [],
   "source": [
    "import matplotlib as mpl\n",
    "import numpy as np"
   ]
  },
  {
   "cell_type": "markdown",
   "metadata": {},
   "source": [
    "### 1-3-1. pyplot API\n",
    "\n",
    "`matplotlib.pyplot`은 MATLAB처럼 작동하는 함수들의 모음입니다.\n",
    "각 pyplot의 함수들은 plot의 요소를 변경합니다. \n",
    "\n",
    "반응형(Interactive) Plot이나 간단한 plot을 그릴 때 유용합니다."
   ]
  },
  {
   "cell_type": "markdown",
   "metadata": {},
   "source": [
    "### 1-3-2. 객체지향 API\n",
    "\n",
    "Matplotlib의 Plot과 그 외 요소들은 객체지향입니다.\n",
    "\n",
    "플롯을 보다 세밀하게 제어하고 사용자 정의 함수를 사용하기 위해서 객체를 직접 다루는 방법을 사용해야 합니다.\n",
    "\n",
    "`plt.subplots`을 사용하여 1개 이상의 Figure와 1개 이상의 Axes를 직접 다룰 수 있습니다.\n",
    "\n",
    "개별적인 플롯을 다룰 수 있기에 보다 직관적인 프로그래밍을 할 수 있습니다.\n",
    "\n",
    "다른 GUI 툴킷에서 인터랙티브하게 변경하는 등 활용도가 가장 높습니다.\n",
    "\n",
    "앞으로 사용하는 matplotlib 관련 함수는 대부분 객체지향 API를 사용합니다."
   ]
  },
  {
   "cell_type": "markdown",
   "metadata": {},
   "source": [
    "### 1-3-3. pylab API\n",
    "\n",
    "pyplot, numpy 등 모든 함수를 전역 네임 스페이스로 가져와서 MATLAB과 유사한 방식으로 시각화를 진행하기 위해 만든 API입니다. 사용은 `matplotlib.pylab`을 이용하여 사용합니다. \n",
    " \n",
    "절차형 프로세스를 제공합니다. 하지만 현재는 사용하지 않는 방법이며, 공식 사이트에서도 이 API를 권장하지 않습니다."
   ]
  },
  {
   "cell_type": "code",
   "execution_count": null,
   "metadata": {},
   "outputs": [],
   "source": []
  },
  {
   "cell_type": "code",
   "execution_count": null,
   "metadata": {},
   "outputs": [],
   "source": []
  }
 ],
 "metadata": {
  "kernelspec": {
   "display_name": "Python 3",
   "language": "python",
   "name": "python3"
  },
  "language_info": {
   "codemirror_mode": {
    "name": "ipython",
    "version": 3
   },
   "file_extension": ".py",
   "mimetype": "text/x-python",
   "name": "python",
   "nbconvert_exporter": "python",
   "pygments_lexer": "ipython3",
   "version": "3.8.0"
  }
 },
 "nbformat": 4,
 "nbformat_minor": 4
}
